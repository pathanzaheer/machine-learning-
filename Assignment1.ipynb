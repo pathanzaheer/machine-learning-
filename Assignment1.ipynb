{
  "nbformat": 4,
  "nbformat_minor": 0,
  "metadata": {
    "colab": {
      "provenance": [],
      "authorship_tag": "ABX9TyNVxY1v7TQcdmEzz+wZlREq",
      "include_colab_link": true
    },
    "kernelspec": {
      "name": "python3",
      "display_name": "Python 3"
    },
    "language_info": {
      "name": "python"
    }
  },
  "cells": [
    {
      "cell_type": "markdown",
      "metadata": {
        "id": "view-in-github",
        "colab_type": "text"
      },
      "source": [
        "<a href=\"https://colab.research.google.com/github/pathanzaheer/machine-learning-/blob/main/Assignment1.ipynb\" target=\"_parent\"><img src=\"https://colab.research.google.com/assets/colab-badge.svg\" alt=\"Open In Colab\"/></a>"
      ]
    },
    {
      "cell_type": "markdown",
      "source": [
        "1.Perform arithmetic operations on NumPy arrays."
      ],
      "metadata": {
        "id": "tBMmjiQLnzpa"
      }
    },
    {
      "cell_type": "code",
      "source": [
        "# importing numpy module\n",
        "import numpy as np\n",
        "\n",
        "# creating array using numpy\n",
        "a = np.array([1,2,3]) # array 01\n",
        "\n",
        "# opertions on numpy array\n",
        "print(\"Addition:\", a+5) # adding 5 to array\n",
        "print(\"Subration:\", 5-a) # subtracting array from 5\n",
        "print(\"Multiplication:\", a*5) # multiplying 5 with array\n",
        "print(\"Division:\", 5/a) # dividing 5 with array"
      ],
      "metadata": {
        "colab": {
          "base_uri": "https://localhost:8080/"
        },
        "id": "ibh-AyKqn2nR",
        "outputId": "5d711893-6780-48ac-e48d-85484d5861b0"
      },
      "execution_count": 1,
      "outputs": [
        {
          "output_type": "stream",
          "name": "stdout",
          "text": [
            "Addition: [6 7 8]\n",
            "Subration: [4 3 2]\n",
            "Multiplication: [ 5 10 15]\n",
            "Division: [5.         2.5        1.66666667]\n"
          ]
        }
      ]
    },
    {
      "cell_type": "markdown",
      "source": [
        "2.Write a script to compute the mean and standard deviation of a NumPy array."
      ],
      "metadata": {
        "id": "Wj3kdsCxoNYp"
      }
    },
    {
      "cell_type": "code",
      "source": [
        "# mean\n",
        "mean = np.mean(a)\n",
        "print(mean)\n",
        "\n",
        "# standard deviation\n",
        "sd = np.std(a)\n",
        "print(sd)"
      ],
      "metadata": {
        "colab": {
          "base_uri": "https://localhost:8080/"
        },
        "id": "vjAl87uxoP_8",
        "outputId": "1df98a57-b5e8-4ac6-d077-0fbb988d6ade"
      },
      "execution_count": 2,
      "outputs": [
        {
          "output_type": "stream",
          "name": "stdout",
          "text": [
            "2.0\n",
            "0.816496580927726\n"
          ]
        }
      ]
    },
    {
      "cell_type": "markdown",
      "source": [
        "3.Create a NumPy array of integers from 10 to 50 with a step size of 5."
      ],
      "metadata": {
        "id": "o5lhJqofoXU9"
      }
    },
    {
      "cell_type": "code",
      "source": [
        "# creating array\n",
        "arr = np.arange(10,50,5)\n",
        "print(arr)"
      ],
      "metadata": {
        "colab": {
          "base_uri": "https://localhost:8080/"
        },
        "id": "29tMf6Mlocj0",
        "outputId": "d3731ae6-b2c8-4a11-e3fe-56a0c107e89e"
      },
      "execution_count": 3,
      "outputs": [
        {
          "output_type": "stream",
          "name": "stdout",
          "text": [
            "[10 15 20 25 30 35 40 45]\n"
          ]
        }
      ]
    },
    {
      "cell_type": "markdown",
      "source": [
        "4.Reshape the array into a 2x4 matrix."
      ],
      "metadata": {
        "id": "0FX76tIvojA4"
      }
    },
    {
      "cell_type": "code",
      "source": [
        "rearr = np.reshape(arr,(2,4))\n",
        "print(rearr)"
      ],
      "metadata": {
        "colab": {
          "base_uri": "https://localhost:8080/"
        },
        "id": "Czh98r5ZojNc",
        "outputId": "ed22f2a4-518c-49db-d486-d0c3c0470d29"
      },
      "execution_count": 4,
      "outputs": [
        {
          "output_type": "stream",
          "name": "stdout",
          "text": [
            "[[10 15 20 25]\n",
            " [30 35 40 45]]\n"
          ]
        }
      ]
    },
    {
      "cell_type": "markdown",
      "source": [
        "5.Given the array arr = np.array([[1, 2, 3], [4, 5, 6], [7, 8, 9]]):\n",
        "• Extract the sub-matrix containing the last two rows and first two columns.\n",
        "• Replace all elements greater than 4 with 0."
      ],
      "metadata": {
        "id": "JYL5sj5BovaC"
      }
    },
    {
      "cell_type": "code",
      "source": [
        "#  creating 2D array\n",
        "arr = np.array([[1, 2, 3], [4, 5, 6], [7, 8, 9]])\n",
        "\n",
        "# extracting last two rows and first two columns\n",
        "subArr = arr[1:,:2]\n",
        "print(subArr)\n",
        "\n",
        "# replacing all elements greater than 4 with 0\n",
        "arr[arr>4] = 0\n",
        "print(arr)"
      ],
      "metadata": {
        "colab": {
          "base_uri": "https://localhost:8080/"
        },
        "id": "Q_WFhqQvo5sJ",
        "outputId": "72893745-be6d-45c3-dada-261031c07389"
      },
      "execution_count": 6,
      "outputs": [
        {
          "output_type": "stream",
          "name": "stdout",
          "text": [
            "[[4 5]\n",
            " [7 8]]\n",
            "[[1 2 3]\n",
            " [4 0 0]\n",
            " [0 0 0]]\n"
          ]
        }
      ]
    },
    {
      "cell_type": "markdown",
      "source": [
        "6.Create two 1D arrays:\n",
        "• a = np.array([1, 2, 3])\n",
        "• b = np.array([4, 5, 6])\n",
        "• Perform element-wise addition, multiplication, and division."
      ],
      "metadata": {
        "id": "x-ic2jpGo_jl"
      }
    },
    {
      "cell_type": "code",
      "source": [
        "# creating array using numpy\n",
        "a = np.array([1,2,3]) # array 01\n",
        "b = np.array([4,5,6]) # array 02\n",
        "\n",
        "# opertions on numpy array\n",
        "print(\"Addition:\", a+b) # addition of two numpy arrays\n",
        "print(\"Subration:\", b-a) # subtraction of two numpy arrays\n",
        "print(\"Multiplication:\", a*b) # multiplication of two numpy arrays\n",
        "print(\"Division:\", b/a) # division of two numpy arrays"
      ],
      "metadata": {
        "colab": {
          "base_uri": "https://localhost:8080/"
        },
        "id": "nIizf5nTpGQf",
        "outputId": "0c3072ec-ac70-4e21-dc85-1d7decc91da0"
      },
      "execution_count": 7,
      "outputs": [
        {
          "output_type": "stream",
          "name": "stdout",
          "text": [
            "Addition: [5 7 9]\n",
            "Subration: [3 3 3]\n",
            "Multiplication: [ 4 10 18]\n",
            "Division: [4.  2.5 2. ]\n"
          ]
        }
      ]
    },
    {
      "cell_type": "markdown",
      "source": [
        "7.Create a random NumPy array of size (4, 4). Compute:\n",
        "• Mean of each column.\n",
        "• Maximum value of the entire array.\n",
        "• Sum of all elements."
      ],
      "metadata": {
        "id": "WF9dR86hpRdk"
      }
    },
    {
      "cell_type": "code",
      "source": [
        "# creating random integer array\n",
        "ramArr = np.random.rand(4,4)\n",
        "print(ramArr)\n",
        "\n",
        "# mean of each column\n",
        "print(np.mean(ramArr, axis = 0))\n",
        "\n",
        "# maximum value\n",
        "print(np.max(ramArr))\n",
        "\n",
        "# sum of all elements\n",
        "print(np.sum(ramArr))"
      ],
      "metadata": {
        "colab": {
          "base_uri": "https://localhost:8080/"
        },
        "id": "VV7pvXGSpXih",
        "outputId": "0d661756-64d5-4a02-b29d-7e99dfcce716"
      },
      "execution_count": 8,
      "outputs": [
        {
          "output_type": "stream",
          "name": "stdout",
          "text": [
            "[[0.69972832 0.44073053 0.90152766 0.53081069]\n",
            " [0.19762994 0.02271823 0.54989449 0.36118747]\n",
            " [0.28838642 0.9522072  0.57130043 0.51826495]\n",
            " [0.48179108 0.3776349  0.28480592 0.66931875]]\n",
            "[0.41688394 0.44832271 0.57688212 0.51989546]\n",
            "0.9522071963506857\n",
            "7.847936981607042\n"
          ]
        }
      ]
    },
    {
      "cell_type": "markdown",
      "source": [
        "8.Given the array arr = np.array([1, 2, 3, 4]), add 10 to each element and multiply the result by 2."
      ],
      "metadata": {
        "id": "lkZFYtycpbHA"
      }
    },
    {
      "cell_type": "code",
      "source": [
        "# creating array\n",
        "arr = np.array([1,2,3,4])\n",
        "\n",
        "# adding 10 to each elements\n",
        "result = arr+10\n",
        "\n",
        "# multiplying 2 to the result\n",
        "result = result*2\n",
        "print(result)"
      ],
      "metadata": {
        "colab": {
          "base_uri": "https://localhost:8080/"
        },
        "id": "ETLnQ-M0pgSH",
        "outputId": "7ce3358f-7956-44ff-8f80-54d2505e0043"
      },
      "execution_count": 9,
      "outputs": [
        {
          "output_type": "stream",
          "name": "stdout",
          "text": [
            "[22 24 26 28]\n"
          ]
        }
      ]
    },
    {
      "cell_type": "markdown",
      "source": [
        "9.Perform advanced slicing and indexing on a 3D array. Create a 3D NumPy array arr of shape (3, 4, 5) with random integers ranging from 1 to 100.\n",
        "Perform the following:\n",
        "• Extract the second \"layer\" (i.e., the second 2D array) in the first dimension.\n",
        "• Extract the first two rows and the last three columns from each \"layer.\"\n",
        "• Replace all elements divisible by 3 with -1."
      ],
      "metadata": {
        "id": "K_AqGL1RpkZ-"
      }
    },
    {
      "cell_type": "code",
      "source": [
        "#  Creating a 3D NumPy array arr of shape (3, 4, 5) with random integers ranging from 1 to 100.\n",
        "arr = np.random.randint(1,100,(3,4,5))\n",
        "print(arr)"
      ],
      "metadata": {
        "colab": {
          "base_uri": "https://localhost:8080/"
        },
        "id": "601WN7a9pkkX",
        "outputId": "66166a2c-f34f-45bb-bf4d-5d79b2d867be"
      },
      "execution_count": 10,
      "outputs": [
        {
          "output_type": "stream",
          "name": "stdout",
          "text": [
            "[[[68  6 16  9 12]\n",
            "  [40 19 92 87 72]\n",
            "  [10 74 53 98 30]\n",
            "  [42  7 81 41 62]]\n",
            "\n",
            " [[32 73 25 83 97]\n",
            "  [59 47 42  3 59]\n",
            "  [69  5 82 76 24]\n",
            "  [51 56 32 55 39]]\n",
            "\n",
            " [[43 65 99 63 37]\n",
            "  [78 65 51 63 72]\n",
            "  [73 12 88 23 33]\n",
            "  [ 1 43 95 64 80]]]\n"
          ]
        }
      ]
    },
    {
      "cell_type": "markdown",
      "source": [
        "10.Work with broadcasting and advanced operations in NumPy. Create a NumPy array arr of shape (3, 3) with random integers between 1 and 20. Perform the following:\n",
        "• Subtract the mean of each row from its respective elements (row-wise normalization).\n",
        "• Create a new array by squaring all the elements in arr.\n",
        "• Find the indices of the top 3 maximum values in the entire array."
      ],
      "metadata": {
        "id": "6jBCj04upwcs"
      }
    },
    {
      "cell_type": "code",
      "source": [
        "#  Creating a NumPy array arr of shape (3, 3) with random integers between 1 and 20.\n",
        "arr = np.random.randint(1,20,(3,3))\n",
        "print(arr)\n",
        "\n",
        "# squaring the array\n",
        "newArr = np.square(arr)\n",
        "print(newArr)\n",
        "\n",
        "# subtracting the mean of each row from its respective elements (row-wise normalization)\n",
        "arr = arr - arr.mean(axis=1, keepdims=True)\n",
        "\n",
        "# top 3 maximum values\n",
        "sortArr = np.sort(arr.flatten())\n",
        "print(sortArr[-3:])"
      ],
      "metadata": {
        "colab": {
          "base_uri": "https://localhost:8080/"
        },
        "id": "D27wu4Pdp3wo",
        "outputId": "54c361d1-44c2-453e-a549-3efc684a4c66"
      },
      "execution_count": 11,
      "outputs": [
        {
          "output_type": "stream",
          "name": "stdout",
          "text": [
            "[[ 2  7 13]\n",
            " [ 6 16  5]\n",
            " [19 12  4]]\n",
            "[[  4  49 169]\n",
            " [ 36 256  25]\n",
            " [361 144  16]]\n",
            "[5.66666667 7.         7.33333333]\n"
          ]
        }
      ]
    }
  ]
}